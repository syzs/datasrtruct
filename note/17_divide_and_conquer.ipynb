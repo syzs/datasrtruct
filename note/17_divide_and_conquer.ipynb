{
 "cells": [
  {
   "cell_type": "markdown",
   "metadata": {},
   "source": [
    "#### 分治算法\n",
    "\n",
    "* 分解：将原问题分解成一系列子问题；\n",
    "* 解决：递归地求解各个子问题，若子问题足够小，则直接求解；\n",
    "* 合并：将子问题的结果合并成原问题。\n",
    "\n",
    "\n",
    "* 分治算法是一种处理问题的思想，递归是一种编程技巧\n",
    "\n"
   ]
  }
 ],
 "metadata": {
  "language_info": {
   "name": "python"
  }
 },
 "nbformat": 4,
 "nbformat_minor": 2
}
